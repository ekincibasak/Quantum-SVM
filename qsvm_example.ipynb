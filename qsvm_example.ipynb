{
 "cells": [
  {
   "cell_type": "markdown",
   "metadata": {},
   "source": [
    "# Quantum enhanced support vector machine\n"
   ]
  },
  {
   "cell_type": "markdown",
   "metadata": {},
   "source": [
    "A support vector machine is a supervised machine learning method that is trained using a dataset and will predict if a particular observation is in a certain class based upon what it has been trained on. It is similar to a linear classifier in that it uses a hyperplane to separate classes."
   ]
  },
  {
   "cell_type": "markdown",
   "metadata": {},
   "source": [
    "Quantum Support Vector Machine (QSVM) is a quantum version of the Support Vector Machine (SVM) algorithm which uses quantum laws to perform calculations. QSVM uses the power of Quantum Computer/technology to improve the performance of classical SVM algorithms that run on classical machines with CPUs or GPUs."
   ]
  },
  {
   "cell_type": "markdown",
   "metadata": {},
   "source": [
    "**Quantum Machine Learning takes on three major steps;** \n",
    "\n",
    "- 1st we will have to translate the classical data point $\\vec{x}$ into a quantum datapoint $\\vert \\Phi{(\\vec{x})} \\rangle$. This can be achieved by a circuit $\\mathcal{U}_{\\Phi(\\vec{x})} \\vert 0 \\rangle $. Where $\\Phi()$ could be any classical function applied on the classical data $\\vec{x}$.\n",
    "\n",
    "- 2nd we need a parameterized quantum circuit $W( \\theta )$ that processes the data in a way that in the end we...\n",
    "\n",
    "- 3rd can apply a measurement that returns a classical value $-1$ or $1$ for each classical input $\\vec{x}$ that indentifies the label of the classical data.\n",
    "\n",
    "**The most general ansatz**\n",
    "\n",
    "Following these steps we can define an ansatz for this kind of problem which is $W(\\theta) \\mathcal{U}_{\\Phi}(\\vec{x}) \\vert 0 \\rangle$.\n",
    "\n",
    "These kind of ansatz are called quantum variational circuits."
   ]
  },
  {
   "cell_type": "code",
   "execution_count": 6,
   "metadata": {},
   "outputs": [],
   "source": [
    "import numpy as np\n",
    "from qiskit import BasicAer\n",
    "from qiskit.aqua import QuantumInstance, aqua_globals\n",
    "from qiskit.aqua.components.feature_maps import SecondOrderExpansion\n",
    "from qiskit.aqua.components.multiclass_extensions import (ErrorCorrectingCode,AllPairs,OneAgainstRest)\n",
    "from qiskit.aqua.algorithms import QSVM\n",
    "from qiskit.aqua.utils import get_feature_dimension\n",
    "from qiskit import IBMQ\n"
   ]
  },
  {
   "cell_type": "markdown",
   "metadata": {},
   "source": [
    "# IMPLEMENTATION\n"
   ]
  },
  {
   "cell_type": "markdown",
   "metadata": {},
   "source": [
    "The bookend refers whether we want to simulate the experiment in classical device\n",
    "or run in real quantum device.\n",
    "\n",
    "Quantum Devices\n",
    "\n",
    "• IBM Q 14 Melbourne: The IBM Q 14 Melbourne is a 14 qubit quantum\n",
    "computer developed by IBM.\n",
    "\n",
    "• IBM Q QASM Simulator: IBM has developed this IBM Q QASM simulator that can simulate\n",
    "32qubits operation. This simulator can take the algorithms and run them on\n",
    "IBM Q systems through the IBM Q Experience or the IBM Q Network without\n",
    "any code changes."
   ]
  },
  {
   "cell_type": "markdown",
   "metadata": {},
   "source": [
    "We used IBM Q QASM Simulator."
   ]
  },
  {
   "cell_type": "code",
   "execution_count": 7,
   "metadata": {},
   "outputs": [],
   "source": [
    "from qiskit import Aer  # simulator framework from qiskit\n",
    "\n",
    "# will create a statevector of possibilities. \n",
    "sim_backend = Aer.get_backend('qasm_simulator')\n",
    "#Qiskit Aer: accelerates the development via simulators, emulators, and debuggers"
   ]
  },
  {
   "cell_type": "markdown",
   "metadata": {},
   "source": [
    "The easiest way to implement the dataset in through numpy arrays:"
   ]
  },
  {
   "cell_type": "code",
   "execution_count": 8,
   "metadata": {},
   "outputs": [],
   "source": [
    "training_data = {'A': np.asarray([[0.324],[0.565]]),'B': np.asarray([[1.324],[1.565]])}"
   ]
  },
  {
   "cell_type": "markdown",
   "metadata": {},
   "source": [
    "Where A is the numpy array for smokers and B is the array for Non-smokers. Next we implement a testing dataset."
   ]
  },
  {
   "cell_type": "code",
   "execution_count": 9,
   "metadata": {},
   "outputs": [],
   "source": [
    "testing_data = {'A': np.asarray([[0.024],[0.456]]),'B': np.asarray([[1.777],[1.341]])}"
   ]
  },
  {
   "cell_type": "markdown",
   "metadata": {},
   "source": [
    "Next we specify the number of qubits to be used. Rule of thumb is N qubits for N features. Since we are using 1 feature we are using 1 qubit."
   ]
  },
  {
   "cell_type": "markdown",
   "metadata": {},
   "source": [
    "# Build QISKIT circuit for feature map"
   ]
  },
  {
   "cell_type": "code",
   "execution_count": 10,
   "metadata": {},
   "outputs": [],
   "source": [
    "num_qubits = 1"
   ]
  },
  {
   "cell_type": "markdown",
   "metadata": {},
   "source": [
    "Then we specify the feature map. This maps the data with second order expansion by entangling qubits."
   ]
  },
  {
   "cell_type": "code",
   "execution_count": 11,
   "metadata": {},
   "outputs": [],
   "source": [
    "feature_map = SecondOrderExpansion(feature_dimension=num_qubits,depth=2,entanglement='full')"
   ]
  },
  {
   "cell_type": "markdown",
   "metadata": {},
   "source": [
    "The function `SecondOrderExpansion` has the arguments `feature_dimension`, which is the dimension of the input data $\\vec{x}$ and at the same time also the number of qubits. `depth` is the number of repetitions of the feature map.This is normally defaulted to 2. entanglement = ‘full’ means all qubits will be entangled with each other."
   ]
  },
  {
   "cell_type": "markdown",
   "metadata": {},
   "source": [
    "The form of the map is a dictionary; each entry in the dictionary has a source qubit\n",
    "index as the key, with the corresponding value being a list of target qubit indexes\n",
    "to which the source qubit should be entangled ."
   ]
  },
  {
   "cell_type": "markdown",
   "metadata": {},
   "source": [
    "**Feature map**\n",
    "The quantum feature map of depth $d$ is implemented by the unitary operator;\n",
    "\n",
    "$\\mathcal{U}_{\\Phi(x)} = U_{\\Phi(x)} \\otimes H^{\\otimes n}$, where $U_{\\Phi(x)} = \\exp \\left( i \\sum_{S \\in n} \\phi_S(x) \\prod_{i \\in S} Z_i \\right)$, which simplifies a lot when we (like in [1](https://arxiv.org/pdf/1804.11326.pdf)) only consider $S \\leq 2$ interactions, which means we only let two qubits interact at a time.\n",
    "\n",
    "which contains layers of Hadamard gates interleaved with entangling blocks encoding the classical data as shown in circuit diagram below for $d=2$.\n",
    "\n",
    "The depth $d=1$ version of this quantum circuit is shown in the figure below for $n=2$ qubits.\n",
    "![](second.png)\n"
   ]
  },
  {
   "cell_type": "markdown",
   "metadata": {},
   "source": [
    "detailed information can be found in [1](https://arxiv.org/pdf/1804.11326.pdf)"
   ]
  },
  {
   "cell_type": "markdown",
   "metadata": {},
   "source": [
    "### QSVM Algorithm\n",
    "\n",
    "Qiskit aqua also provides a pre-defined function to train the whole QSVM. Where we only have to provide the feature map, a training and a test set and Qiskit will do all the work for us.\n",
    "\n",
    "Apart from finding the quantum Kernel the QSVM algorithm does only classical optimization. In the end there is no difference to the classical SVM, except that the Kernels are coming from a quantum distribution.\n",
    "\n",
    "QSVM will minimize the loss \n",
    "$$L(W) = \\sum_i \\alpha_i - \\frac{1}{2}\\sum_{i,j} y_i y_j \\alpha_i \\alpha_j K(\\vec{x}_i, \\vec{x}_j)$$\n",
    "via optimizing the parameters $\\vec{\\alpha}$.\n",
    "\n",
    "After training we can predict a label $y'$ of a data instance $\\vec{s}$ with $y' = \\text{sign}\\left( \\sum_i y_i \\alpha_i K(\\vec{x}_i, \\vec{s}) \\right)$."
   ]
  },
  {
   "cell_type": "code",
   "execution_count": 12,
   "metadata": {},
   "outputs": [],
   "source": [
    "qsvm = QSVM(feature_map, training_data,testing_data) # Creation of QSVM"
   ]
  },
  {
   "cell_type": "code",
   "execution_count": null,
   "metadata": {},
   "outputs": [],
   "source": []
  },
  {
   "cell_type": "markdown",
   "metadata": {},
   "source": [
    "#### Run QSVM\n",
    "\n",
    "Finally we will have to define where we would like to run this algorithm. For now we will run it on a local QASM Simulator. But the algorithm could also be sent to the IBMQ an be evaluated on a real quantum computer.\n",
    "\n",
    "We will have to define the `shots`, which are the number of measurements that we will take for each qubit. And for better reproducability we also set here the random seeds `seed_simulator` and `see_transpiler`."
   ]
  },
  {
   "cell_type": "code",
   "execution_count": 13,
   "metadata": {},
   "outputs": [],
   "source": [
    "from qiskit.aqua import run_algorithm, QuantumInstance\n",
    "from qiskit import BasicAer\n",
    "\n",
    "backend = BasicAer.get_backend('qasm_simulator')\n",
    "quantum_instance = QuantumInstance(backend, shots=1024, seed_simulator=10598, seed_transpiler=10598)\n",
    "\n"
   ]
  },
  {
   "cell_type": "markdown",
   "metadata": {},
   "source": [
    "\n",
    "\n",
    "Next we run the QSVM to get the accuracy using the following code. This is where it is sent as a job to the quantum device."
   ]
  },
  {
   "cell_type": "code",
   "execution_count": 14,
   "metadata": {},
   "outputs": [],
   "source": [
    "result = qsvm.run(quantum_instance)"
   ]
  },
  {
   "cell_type": "code",
   "execution_count": 15,
   "metadata": {},
   "outputs": [],
   "source": [
    "data = np.array([[1.453],[1.023],[0.135],[0.266]]) #Unlabelled data"
   ]
  },
  {
   "cell_type": "code",
   "execution_count": 16,
   "metadata": {
    "scrolled": true
   },
   "outputs": [
    {
     "name": "stdout",
     "output_type": "stream",
     "text": [
      "Prediction of Smoker or Non-Smoker based upon gene expression of CDKN2A\n",
      "\n",
      "Accuracy:  1.0 \n",
      "\n",
      "Prediction from input data where 0 = Non-Smoker and 1 = Smoker\n",
      "\n",
      "[1 1 0 0]\n"
     ]
    }
   ],
   "source": [
    "prediction = qsvm.predict(data,quantum_instance) # Predict using unlabelled data \n",
    "\n",
    "print('Prediction of Smoker or Non-Smoker based upon gene expression of CDKN2A\\n')\n",
    "print('Accuracy: ' , result['testing_accuracy'],'\\n')\n",
    "print('Prediction from input data where 0 = Non-Smoker and 1 = Smoker\\n')\n",
    "print(prediction)"
   ]
  },
  {
   "cell_type": "markdown",
   "metadata": {},
   "source": [
    "# References\n",
    "\n",
    "[1] Vojtech Havlicek, Antonio D. C´orcoles, Kristan Temme, Aram W. Harrow, Abhinav Kandala, Jerry M. Chow, and Jay M. Gambetta1, *Supervised learning with quantum enhanced feature spaces*, Nature 567, 209–212 (2019).\n",
    "\n",
    "[2] Pattern Recognition with Quantum Support Vector Machine(QSVM) on Near Term Quantum Processors.\n",
    "\n",
    "[3] https://quantumcomputinguk.org/tutorials/how-to-implement-qsvm-algorithm-on-ibms-quantum-computers-with-qiskit.\n",
    "\n",
    "[4] https://github.com/qiskit-community/qiskit-community-tutorials/blob/master/machine_learning/custom_feature_map.ipynb"
   ]
  },
  {
   "cell_type": "code",
   "execution_count": null,
   "metadata": {},
   "outputs": [],
   "source": []
  },
  {
   "cell_type": "code",
   "execution_count": null,
   "metadata": {},
   "outputs": [],
   "source": []
  },
  {
   "cell_type": "code",
   "execution_count": null,
   "metadata": {},
   "outputs": [],
   "source": []
  },
  {
   "cell_type": "code",
   "execution_count": null,
   "metadata": {},
   "outputs": [],
   "source": []
  },
  {
   "cell_type": "code",
   "execution_count": null,
   "metadata": {},
   "outputs": [],
   "source": []
  },
  {
   "cell_type": "code",
   "execution_count": null,
   "metadata": {},
   "outputs": [],
   "source": []
  },
  {
   "cell_type": "code",
   "execution_count": null,
   "metadata": {},
   "outputs": [],
   "source": []
  },
  {
   "cell_type": "code",
   "execution_count": null,
   "metadata": {},
   "outputs": [],
   "source": []
  }
 ],
 "metadata": {
  "kernelspec": {
   "display_name": "Python 3",
   "language": "python",
   "name": "python3"
  },
  "language_info": {
   "codemirror_mode": {
    "name": "ipython",
    "version": 3
   },
   "file_extension": ".py",
   "mimetype": "text/x-python",
   "name": "python",
   "nbconvert_exporter": "python",
   "pygments_lexer": "ipython3",
   "version": "3.7.7"
  }
 },
 "nbformat": 4,
 "nbformat_minor": 4
}
