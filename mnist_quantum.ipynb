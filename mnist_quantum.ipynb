{
 "cells": [
  {
   "cell_type": "markdown",
   "metadata": {},
   "source": [
    "# SVM_MNIST_QUANTUM"
   ]
  },
  {
   "cell_type": "code",
   "execution_count": null,
   "metadata": {},
   "outputs": [],
   "source": [
    "import numpy as np\n",
    "from datasetmnist import q_mnist\n",
    "from sklearn.datasets.samples_generator import make_blobs\n",
    "from qiskit.aqua.utils import split_dataset_to_data_and_labels \n",
    "from sklearn import svm\n",
    "#from utils import svm_utils \n",
    "from matplotlib import pyplot as plt\n",
    "%matplotlib inline\n",
    "%load_ext autoreload\n",
    "%autoreload 2"
   ]
  },
  {
   "cell_type": "markdown",
   "metadata": {},
   "source": [
    "How it’s built:\n",
    "\n",
    "First step is preparing the  dataset for the quantum circuit and importing it so the algorithm can be run. The steps are:\n",
    "\n",
    "Import dataset from sklearn or the dataset can be imported through this website.\n",
    "\n",
    "Define your variables to include training datasets, testing dataset and how it’s split.\n",
    "\n",
    "Normalize dataset to have 0 unit variance so the pixels from the images have a very small range and can be computed efficiently.\n",
    "\n",
    "Using IBM’s qiskit library take your current features of dataset and transform them to the number of qubits.\n",
    "\n",
    "Set the range for SVM to -1 and +1 so classification can be done based on where a datapoint lies on the range.\n",
    "\n",
    "Set up the training dataset.\n",
    "\n",
    "Set up a plot to showcase visually the classification.\n",
    "\n",
    "Next step is implementing the quantum ML algorithm. IBM has it part of their library which you can easily simulate. The steps are:\n",
    "\n",
    "Setting up how many qubits your quantum circuit will have.\n",
    "\n",
    "Defining your classes again and import the dataset which you manipulated above.\n",
    "\n",
    "Dictating the algorithm and setting its parameters for how many runs it will do and depth of the circuit.\n",
    "\n",
    "Input the new datapoints\n",
    "\n",
    "Check for results after the algorithm is finished running."
   ]
  },
  {
   "cell_type": "code",
   "execution_count": 22,
   "metadata": {},
   "outputs": [
    {
     "name": "stdout",
     "output_type": "stream",
     "text": [
      "   label  1x1  1x2  1x3  1x4  1x5  1x6  1x7  1x8  1x9  ...  28x19  28x20  \\\n",
      "0      7    0    0    0    0    0    0    0    0    0  ...      0      0   \n",
      "1      2    0    0    0    0    0    0    0    0    0  ...      0      0   \n",
      "2      1    0    0    0    0    0    0    0    0    0  ...      0      0   \n",
      "3      0    0    0    0    0    0    0    0    0    0  ...      0      0   \n",
      "4      4    0    0    0    0    0    0    0    0    0  ...      0      0   \n",
      "\n",
      "   28x21  28x22  28x23  28x24  28x25  28x26  28x27  28x28  \n",
      "0      0      0      0      0      0      0      0      0  \n",
      "1      0      0      0      0      0      0      0      0  \n",
      "2      0      0      0      0      0      0      0      0  \n",
      "3      0      0      0      0      0      0      0      0  \n",
      "4      0      0      0      0      0      0      0      0  \n",
      "\n",
      "[5 rows x 785 columns]\n",
      "6041    2\n",
      "1677    5\n",
      "4352    3\n",
      "5212    3\n",
      "1691    1\n",
      "       ..\n",
      "7422    1\n",
      "2489    4\n",
      "1941    7\n",
      "8230    9\n",
      "921     2\n",
      "Name: label, Length: 3000, dtype: int64\n",
      "Train: X=(7000, 784), y=(7000,)\n",
      "Test: X=(3000, 784), y=(7000,)\n",
      "After filter: Y_train\n",
      "2360    False\n",
      "8910     True\n",
      "7026     True\n",
      "7613    False\n",
      "7438    False\n",
      "        ...  \n",
      "2624     True\n",
      "8430     True\n",
      "3058    False\n",
      "8429     True\n",
      "7925    False\n",
      "Name: label, Length: 1365, dtype: bool\n",
      "After filter: Y_test\n",
      "4352     True\n",
      "5212     True\n",
      "8952     True\n",
      "7252     True\n",
      "5088    False\n",
      "        ...  \n",
      "4587    False\n",
      "6334    False\n",
      "7314    False\n",
      "2952     True\n",
      "1886    False\n",
      "Name: label, Length: 603, dtype: bool\n",
      "Train: X=(1365, 784), y=(1365,)\n",
      "Test: X=(603, 784), y=(1365,)\n",
      "Train: X=(1365, 2), y=(1365,)\n",
      "Test: X=(603, 2), y=(1365,)\n"
     ]
    },
    {
     "data": {
      "image/png": "[encoded data removed]",
      "text/plain": [
       "<Figure size 432x288 with 1 Axes>"
      ]
     },
     "metadata": {
      "needs_background": "light"
     },
     "output_type": "display_data"
    }
   ],
   "source": [
    "n = 2 # number of principal components kept\n",
    "training_dataset_size = 20\n",
    "testing_dataset_size = 10\n",
    "\n",
    "sample_Total, training_input, test_input, class_labels = q_mnist(training_dataset_size, testing_dataset_size, n)\n",
    "\n",
    "data_train, _ = split_dataset_to_data_and_labels(training_input)\n",
    "data_test, _ = split_dataset_to_data_and_labels(test_input)\n"
   ]
  },
  {
   "cell_type": "code",
   "execution_count": 6,
   "metadata": {},
   "outputs": [
    {
     "data": {
      "text/plain": [
       "array([0, 0, 0, 0, 0, 0, 0, 0, 0, 0, 0, 0, 0, 0, 0, 0, 0, 0, 0, 0, 1, 1,\n",
       "       1, 1, 1, 1, 1, 1, 1, 1, 1, 1, 1, 1, 1, 1, 1, 1, 1, 1])"
      ]
     },
     "execution_count": 6,
     "metadata": {},
     "output_type": "execute_result"
    }
   ],
   "source": [
    "data_train[1]"
   ]
  },
  {
   "cell_type": "markdown",
   "metadata": {},
   "source": [
    "### Build circuit for feature map\n"
   ]
  },
  {
   "cell_type": "code",
   "execution_count": 23,
   "metadata": {},
   "outputs": [],
   "source": [
    "from qiskit.aqua.components.feature_maps import SecondOrderExpansion\n",
    "\n",
    "feature_map = SecondOrderExpansion(feature_dimension=2, \n",
    "                                   depth=1)"
   ]
  },
  {
   "cell_type": "markdown",
   "metadata": {},
   "source": [
    "The function `SecondOrderExpansion` has the arguments `feature_dimension`, which is the dimension of the input data $\\vec{x}$ and at the same time also the number of qubits. `depth` is the number of repetitions of the feature map."
   ]
  },
  {
   "cell_type": "markdown",
   "metadata": {},
   "source": [
    "The Second Order Expansion refers to the number of interacting qubits."
   ]
  },
  {
   "cell_type": "markdown",
   "metadata": {},
   "source": [
    "### QSVM Algorithm"
   ]
  },
  {
   "cell_type": "markdown",
   "metadata": {},
   "source": [
    "Qiskit aqua provides a pre-defined function to train the whole QSVM. Where we only have to provide the feature map, a training and a test set and Qiskit will do all the work for us.\n",
    "\n",
    "Apart from finding the quantum Kernel the QSVM algorithm does only classical optimization. In the end there is no difference to the classical SVM, except that the Kernels are coming from a quantum distribution.\n"
   ]
  },
  {
   "cell_type": "code",
   "execution_count": 24,
   "metadata": {},
   "outputs": [],
   "source": [
    "from qiskit.aqua.algorithms import QSVM\n",
    "\n",
    "qsvm = QSVM(feature_map, training_input, test_input)"
   ]
  },
  {
   "cell_type": "markdown",
   "metadata": {},
   "source": [
    "#### Run QSVM\n",
    "\n",
    "Finally we will have to define where we would like to run this algorithm. For now we will run it on a local QASM Simulator. But the algorithm could also be sent to the IBMQ an be evaluated on a real quantum computer.\n",
    "\n",
    "We will have to define the `shots`, which are the number of measurements that we will take for each qubit. And for better reproducability we also set here the random seeds `seed_simulator` and `see_transpiler`."
   ]
  },
  {
   "cell_type": "code",
   "execution_count": 25,
   "metadata": {},
   "outputs": [],
   "source": [
    "from qiskit.aqua import run_algorithm, QuantumInstance\n",
    "from qiskit import BasicAer\n",
    "\n",
    "backend = BasicAer.get_backend('qasm_simulator')\n",
    "quantum_instance = QuantumInstance(backend, shots=1024, seed_simulator=10598, seed_transpiler=10598)\n",
    "\n",
    "result = qsvm.run(quantum_instance)"
   ]
  },
  {
   "cell_type": "markdown",
   "metadata": {},
   "source": [
    "### Analyze output\n",
    "\n",
    "`results` is a dictionary that contains elements like the kernel matrix, the label predictions and also the classical weights of the QSVM.\n",
    "\n",
    "Let's have a quick look at them:"
   ]
  },
  {
   "cell_type": "markdown",
   "metadata": {},
   "source": [
    "#### The kernel matrix for the training\n",
    "\n",
    "Since the training set contains 40 elements, the kernel matrix has dimension 40x40"
   ]
  },
  {
   "cell_type": "code",
   "execution_count": 26,
   "metadata": {},
   "outputs": [
    {
     "name": "stdout",
     "output_type": "stream",
     "text": [
      "testing success ratio:  1.0\n"
     ]
    }
   ],
   "source": [
    "print(\"testing success ratio: \", result['testing_accuracy'])"
   ]
  },
  {
   "cell_type": "code",
   "execution_count": 16,
   "metadata": {},
   "outputs": [],
   "source": [
    "test_set = np.concatenate((test_input['3'], test_input['6']))\n",
    "y_test = qsvm.predict(test_set, quantum_instance)"
   ]
  },
  {
   "cell_type": "code",
   "execution_count": null,
   "metadata": {},
   "outputs": [],
   "source": [
    "\n",
    "predicted_labels = qsvm.predict(data_train[0])\n",
    "\n",
    "predicted_classes = map_label_to_class_name(predicted_labels, qsvm.label_to_class)\n",
    "print(\"ground truth: {}\".format(data_train[1]))\n",
    "print(\"prediction:   {}\".format(predicted_labels))"
   ]
  },
  {
   "cell_type": "code",
   "execution_count": null,
   "metadata": {},
   "outputs": [],
   "source": []
  }
 ],
 "metadata": {
  "kernelspec": {
   "display_name": "Python 3",
   "language": "python",
   "name": "python3"
  },
  "language_info": {
   "codemirror_mode": {
    "name": "ipython",
    "version": 3
   },
   "file_extension": ".py",
   "mimetype": "text/x-python",
   "name": "python",
   "nbconvert_exporter": "python",
   "pygments_lexer": "ipython3",
   "version": "3.7.7"
  }
 },
 "nbformat": 4,
 "nbformat_minor": 4
}
